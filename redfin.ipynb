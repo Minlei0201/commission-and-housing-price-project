{
 "cells": [
  {
   "cell_type": "code",
   "execution_count": 98,
   "id": "8abec618-fa87-4eda-b638-2644cad1cb64",
   "metadata": {},
   "outputs": [],
   "source": [
    "import requests\n",
    "from bs4 import BeautifulSoup\n",
    "import pandas as pd\n",
    "import re\n",
    "import json"
   ]
  },
  {
   "cell_type": "code",
   "execution_count": 184,
   "id": "fee7d654-a2a0-4d47-9dab-dac7be02379b",
   "metadata": {},
   "outputs": [
    {
     "name": "stderr",
     "output_type": "stream",
     "text": [
      "/opt/conda/lib/python3.12/site-packages/urllib3/connectionpool.py:1099: InsecureRequestWarning: Unverified HTTPS request is being made to host 'www.redfin.com'. Adding certificate verification is strongly advised. See: https://urllib3.readthedocs.io/en/latest/advanced-usage.html#tls-warnings\n",
      "  warnings.warn(\n",
      "/opt/conda/lib/python3.12/site-packages/urllib3/connectionpool.py:1099: InsecureRequestWarning: Unverified HTTPS request is being made to host 'www.redfin.com'. Adding certificate verification is strongly advised. See: https://urllib3.readthedocs.io/en/latest/advanced-usage.html#tls-warnings\n",
      "  warnings.warn(\n",
      "/opt/conda/lib/python3.12/site-packages/urllib3/connectionpool.py:1099: InsecureRequestWarning: Unverified HTTPS request is being made to host 'www.redfin.com'. Adding certificate verification is strongly advised. See: https://urllib3.readthedocs.io/en/latest/advanced-usage.html#tls-warnings\n",
      "  warnings.warn(\n"
     ]
    },
    {
     "name": "stdout",
     "output_type": "stream",
     "text": [
      "Concatenated result length: 3023250\n"
     ]
    }
   ],
   "source": [
    "head = {\n",
    "    \"User-Agent\": \"Mozilla/5.0 (Windows NT 10.0; Win64; x64) AppleWebKit/537.36 (KHTML, like Gecko) Chrome/120.0.0.0 Safari/537.36\"\n",
    "}\n",
    "target_urls = [\n",
    "    \"https://www.redfin.com/zipcode/94065/filter/include=sold-1yr\",\n",
    "    \"https://www.redfin.com/zipcode/94065/filter/include=sold-1yr/page-2\",\n",
    "    \"https://www.redfin.com/zipcode/94065/filter/include=sold-1yr/page-3\"\n",
    "]\n",
    "\n",
    "# Variable to store concatenated results\n",
    "all_results = \"\"\n",
    "\n",
    "# Loop through each URL, fetch content, and concatenate results\n",
    "for url in target_urls:\n",
    "    try:\n",
    "        response = requests.get(url, headers=head, verify=False)\n",
    "        if response.status_code == 200:\n",
    "            all_results += response.text  # Append the response content\n",
    "        else:\n",
    "            print(f\"Failed to fetch {url}, Status Code: {response.status_code}\")\n",
    "    except requests.exceptions.RequestException as e:\n",
    "        print(f\"Error fetching {url}: {e}\")\n",
    "\n",
    "# Print the concatenated result length as an example\n",
    "print(f\"Concatenated result length: {len(all_results)}\")"
   ]
  },
  {
   "cell_type": "code",
   "execution_count": 100,
   "id": "33c78366-72ba-4012-b213-ec015fc3d146",
   "metadata": {},
   "outputs": [],
   "source": [
    "soup=BeautifulSoup(all_results,'html.parser')\n",
    "allBoxes = soup.find_all(\"div\",{\"class\":\"HomeCardContainer\"})\n",
    "\n"
   ]
  },
  {
   "cell_type": "code",
   "execution_count": null,
   "id": "ed27a4bf-6e4f-4e5e-97a6-211cffbb4e84",
   "metadata": {},
   "outputs": [],
   "source": [
    "# # Extract text or string content from allBoxes\n",
    "# all_text = \" \".join(str(box) for box in soup)\n",
    "# file_path = \"redfin_raw.txt\"\n",
    "# with open(file_path, 'w') as file:\n",
    "#     file.write(all_text)"
   ]
  },
  {
   "cell_type": "code",
   "execution_count": 183,
   "id": "73dee01e-9e75-4068-ba57-a966610041c0",
   "metadata": {},
   "outputs": [
    {
     "name": "stdout",
     "output_type": "stream",
     "text": [
      "Unique count: 0\n"
     ]
    }
   ],
   "source": [
    "# Extract text or string content from allBoxes\n",
    "all_text = \" \".join(str(box) for box in soup)\n",
    "# Find all occurrences of the target base URL\n",
    "matches = re.findall(r\"https://www\\.redfin\\.com/CA/Redwood-City/[^\\s]+\", all_text)\n",
    "\n",
    "# Count unique occurrences\n",
    "unique_count = len(matches)\n",
    "\n",
    "print(f\"Unique count: {unique_count}\")"
   ]
  },
  {
   "cell_type": "code",
   "execution_count": 181,
   "id": "489e1e88-6acc-4d06-b2b6-3f18fef02079",
   "metadata": {},
   "outputs": [],
   "source": [
    "l=[]\n",
    "for box in allBoxes:\n",
    "    o = {}\n",
    "    try:\n",
    "        # Extract price\n",
    "        price_span = box.find(\"span\", {\"class\": \"bp-Homecard__Price--value\"})\n",
    "        o[\"property-price\"] = price_span.text.strip() if price_span else None\n",
    "\n",
    "         # Find the date sold\n",
    "        date_sold_span = box.find(\"span\", {\"data-rf-test-id\": \"home-sash\"})\n",
    "        o[\"date_sold\"] = date_sold_span.text.strip() if date_sold_span else None\n",
    "        \n",
    "        # Extract property stats\n",
    "        stats_div = box.find(\"div\", {\"class\": \"bp-Homecard__Stats\"})\n",
    "        if stats_div:\n",
    "            o[\"beds\"] = stats_div.find(\"span\", {\"class\": \"bp-Homecard__Stats--beds\"}).text.strip() if stats_div.find(\"span\", {\"class\": \"bp-Homecard__Stats--beds\"}) else None\n",
    "            o[\"baths\"] = stats_div.find(\"span\", {\"class\": \"bp-Homecard__Stats--baths\"}).text.strip() if stats_div.find(\"span\", {\"class\": \"bp-Homecard__Stats--baths\"}) else None\n",
    "            sqft_div = stats_div.find(\"span\", {\"class\": \"bp-Homecard__Stats--sqft\"})\n",
    "            o[\"sqft\"] = sqft_div.find(\"span\", {\"class\": \"bp-Homecard__LockedStat--value\"}).text.strip() if sqft_div else None\n",
    "        \n",
    "        # Extract address\n",
    "        address_div = box.find(\"div\", {\"class\": \"bp-Homecard__Address\"})\n",
    "        o[\"address\"] = address_div.text.strip() if address_div else None\n",
    "\n",
    "        # Extract JSON data from the script tag\n",
    "        script_tag = box.find(\"script\", {\"type\": \"application/ld+json\"})\n",
    "        if script_tag and script_tag.string:  # Ensure the tag and its content exist\n",
    "            data = json.loads(script_tag.string)\n",
    "            \n",
    "        # Extracting required fields\n",
    "            o[\"numberOfRooms\"] = data.get(\"numberOfRooms\")\n",
    "            o[\"floorSize\"] = data.get(\"floorSize\", {}).get(\"value\")\n",
    "            o[\"typeOfHouse\"] = data.get(\"@type\")\n",
    "            # Extract the house URL\n",
    "            o[\"url\"] = data.get(\"url\")\n",
    "            \n",
    "    except Exception as e:\n",
    "        # Handle parsing errors gracefully\n",
    "        o[\"error\"] = str(e)\n",
    "    l.append(o)\n",
    "\n"
   ]
  },
  {
   "cell_type": "code",
   "execution_count": 182,
   "id": "d7759fb3-cdeb-45af-97ea-3b41c36caa2c",
   "metadata": {},
   "outputs": [
    {
     "name": "stderr",
     "output_type": "stream",
     "text": [
      "<>:14: SyntaxWarning: invalid escape sequence '\\$'\n",
      "<>:14: SyntaxWarning: invalid escape sequence '\\$'\n",
      "/tmp/ipykernel_2440/3988914560.py:14: SyntaxWarning: invalid escape sequence '\\$'\n",
      "  df['property-price'] = df['property-price'].replace({'\\$': '', ',': ''}, regex=True).astype(int)\n"
     ]
    },
    {
     "ename": "KeyError",
     "evalue": "'property-price'",
     "output_type": "error",
     "traceback": [
      "\u001b[0;31m---------------------------------------------------------------------------\u001b[0m",
      "\u001b[0;31mKeyError\u001b[0m                                  Traceback (most recent call last)",
      "Cell \u001b[0;32mIn[182], line 5\u001b[0m\n\u001b[1;32m      2\u001b[0m df \u001b[38;5;241m=\u001b[39m pd\u001b[38;5;241m.\u001b[39mDataFrame(l)\n\u001b[1;32m      4\u001b[0m \u001b[38;5;66;03m# Drop NAs\u001b[39;00m\n\u001b[0;32m----> 5\u001b[0m df \u001b[38;5;241m=\u001b[39m df[\u001b[43mdf\u001b[49m\u001b[43m[\u001b[49m\u001b[38;5;124;43m'\u001b[39;49m\u001b[38;5;124;43mproperty-price\u001b[39;49m\u001b[38;5;124;43m'\u001b[39;49m\u001b[43m]\u001b[49m\u001b[38;5;241m.\u001b[39mnotna()]\n\u001b[1;32m      7\u001b[0m \u001b[38;5;66;03m# Remove \"SOLD\" and \"SOLD BY REDFIN\" using regex\u001b[39;00m\n\u001b[1;32m      8\u001b[0m df[\u001b[38;5;124m\"\u001b[39m\u001b[38;5;124mdate_sold\u001b[39m\u001b[38;5;124m\"\u001b[39m] \u001b[38;5;241m=\u001b[39m df[\u001b[38;5;124m\"\u001b[39m\u001b[38;5;124mdate_sold\u001b[39m\u001b[38;5;124m\"\u001b[39m]\u001b[38;5;241m.\u001b[39mstr\u001b[38;5;241m.\u001b[39mreplace(\u001b[38;5;124mr\u001b[39m\u001b[38;5;124m\"\u001b[39m\u001b[38;5;124mSOLD BY REDFIN |SOLD |BOUGHT WITH REDFIN\u001b[39m\u001b[38;5;124m\"\u001b[39m, \u001b[38;5;124m\"\u001b[39m\u001b[38;5;124m\"\u001b[39m, regex\u001b[38;5;241m=\u001b[39m\u001b[38;5;28;01mTrue\u001b[39;00m)\n",
      "File \u001b[0;32m/opt/conda/lib/python3.12/site-packages/pandas/core/frame.py:4102\u001b[0m, in \u001b[0;36mDataFrame.__getitem__\u001b[0;34m(self, key)\u001b[0m\n\u001b[1;32m   4100\u001b[0m \u001b[38;5;28;01mif\u001b[39;00m \u001b[38;5;28mself\u001b[39m\u001b[38;5;241m.\u001b[39mcolumns\u001b[38;5;241m.\u001b[39mnlevels \u001b[38;5;241m>\u001b[39m \u001b[38;5;241m1\u001b[39m:\n\u001b[1;32m   4101\u001b[0m     \u001b[38;5;28;01mreturn\u001b[39;00m \u001b[38;5;28mself\u001b[39m\u001b[38;5;241m.\u001b[39m_getitem_multilevel(key)\n\u001b[0;32m-> 4102\u001b[0m indexer \u001b[38;5;241m=\u001b[39m \u001b[38;5;28;43mself\u001b[39;49m\u001b[38;5;241;43m.\u001b[39;49m\u001b[43mcolumns\u001b[49m\u001b[38;5;241;43m.\u001b[39;49m\u001b[43mget_loc\u001b[49m\u001b[43m(\u001b[49m\u001b[43mkey\u001b[49m\u001b[43m)\u001b[49m\n\u001b[1;32m   4103\u001b[0m \u001b[38;5;28;01mif\u001b[39;00m is_integer(indexer):\n\u001b[1;32m   4104\u001b[0m     indexer \u001b[38;5;241m=\u001b[39m [indexer]\n",
      "File \u001b[0;32m/opt/conda/lib/python3.12/site-packages/pandas/core/indexes/range.py:417\u001b[0m, in \u001b[0;36mRangeIndex.get_loc\u001b[0;34m(self, key)\u001b[0m\n\u001b[1;32m    415\u001b[0m         \u001b[38;5;28;01mraise\u001b[39;00m \u001b[38;5;167;01mKeyError\u001b[39;00m(key) \u001b[38;5;28;01mfrom\u001b[39;00m \u001b[38;5;21;01merr\u001b[39;00m\n\u001b[1;32m    416\u001b[0m \u001b[38;5;28;01mif\u001b[39;00m \u001b[38;5;28misinstance\u001b[39m(key, Hashable):\n\u001b[0;32m--> 417\u001b[0m     \u001b[38;5;28;01mraise\u001b[39;00m \u001b[38;5;167;01mKeyError\u001b[39;00m(key)\n\u001b[1;32m    418\u001b[0m \u001b[38;5;28mself\u001b[39m\u001b[38;5;241m.\u001b[39m_check_indexing_error(key)\n\u001b[1;32m    419\u001b[0m \u001b[38;5;28;01mraise\u001b[39;00m \u001b[38;5;167;01mKeyError\u001b[39;00m(key)\n",
      "\u001b[0;31mKeyError\u001b[0m: 'property-price'"
     ]
    }
   ],
   "source": [
    "# Convert data to data frame\n",
    "df = pd.DataFrame(l)\n",
    "\n",
    "# Drop NAs\n",
    "df = df[df['property-price'].notna()]\n",
    "\n",
    "# Remove \"SOLD\" and \"SOLD BY REDFIN\" using regex\n",
    "df[\"date_sold\"] = df[\"date_sold\"].str.replace(r\"SOLD BY REDFIN |SOLD |BOUGHT WITH REDFIN\", \"\", regex=True)\n",
    "\n",
    "# Convert the 'date_sold' column to datetime format\n",
    "df[\"date_sold\"] = pd.to_datetime(df[\"date_sold\"], format=\"mixed\")\n",
    "\n",
    "# Convert the property-price, beds, baths, sqft columns to numeric\n",
    "df['property-price'] = df['property-price'].replace({'\\$': '', ',': ''}, regex=True).astype(int)\n",
    "df['beds'] = df['beds'].str.replace(' beds', '').str.replace(' bed', '').astype(int)\n",
    "df['baths'] = df['baths'].str.replace(' baths', '').str.replace(' bath', '').astype(float)\n",
    "df['sqft'] = df['sqft'].str.replace(',', '').astype(int)\n",
    "\n",
    "# Add a new column to check if the date is before Aug 17, 2024\n",
    "threshold_date = pd.Timestamp(\"2024-08-17\")\n",
    "df[\"buyerfee\"] = df[\"date_sold\"] < threshold_date\n",
    "\n",
    "# Add a new column to check if the date is before Sep 18, 2024\n",
    "threshold_date = pd.Timestamp(\"2024-09-18\")\n",
    "df[\"interestcut\"] = df[\"date_sold\"] > threshold_date\n",
    "\n",
    "# Save to CSV\n",
    "df.to_csv(\"output.csv\", index=False) \n",
    "\n",
    "df"
   ]
  },
  {
   "cell_type": "code",
   "execution_count": 175,
   "id": "3e3c066a-b9a4-4a2a-85f6-1217b0bdb978",
   "metadata": {},
   "outputs": [
    {
     "data": {
      "text/plain": [
       "'Unknown'"
      ]
     },
     "execution_count": 175,
     "metadata": {},
     "output_type": "execute_result"
    }
   ],
   "source": [
    "\n",
    "\n",
    "# def fetch_property_type_with_selenium(url):\n",
    "#     # Set up Selenium WebDriver\n",
    "#     driver = webdriver.Chrome()  # Ensure you have the correct WebDriver installed\n",
    "#     driver.get(url)\n",
    "\n",
    "#     # Get page source after JavaScript execution\n",
    "#     soup = BeautifulSoup(driver.page_source, 'html.parser')\n",
    "\n",
    "#     # Close the driver\n",
    "#     driver.quit()\n",
    "\n",
    "#     # Extract property type as before\n",
    "#     property_type = None\n",
    "#     type_keys = [\"Ownership Type\", \"Style\"]\n",
    "#     amenity_groups = soup.find_all(\"div\", class_=\"amenity-group\")\n",
    "#     for group in amenity_groups:\n",
    "#         entries = group.find_all(\"li\", class_=\"entryItem\")\n",
    "#         for entry in entries:\n",
    "#             for key in type_keys:\n",
    "#                 if key in entry.get_text():\n",
    "#                     property_type = entry.find(\"span\").get_text(strip=True)\n",
    "#                     return property_type\n",
    "\n",
    "#     return \"Unknown\"\n",
    "\n",
    "\n",
    "# url = \"\thttps://www.redfin.com/CA/Redwood-City/6-Portofino-Cir-94065/home/942122\"\n",
    "# fetch_property_type(url)\n",
    "\n",
    "# # # Apply the function to the DataFrame\n",
    "# # df[\"property_type\"] = df[\"url\"].apply(fetch_property_type)\n",
    "\n",
    "# # # Save DataFrame to a CSV file\n",
    "# # df.to_csv('redfin.csv', index=False)\n",
    "\n",
    "# # df"
   ]
  },
  {
   "cell_type": "code",
   "execution_count": 172,
   "id": "bf095285-d6f8-4402-b744-b7c776c56298",
   "metadata": {},
   "outputs": [
    {
     "name": "stderr",
     "output_type": "stream",
     "text": [
      "/opt/conda/lib/python3.12/site-packages/urllib3/connectionpool.py:1099: InsecureRequestWarning: Unverified HTTPS request is being made to host 'www.redfin.com'. Adding certificate verification is strongly advised. See: https://urllib3.readthedocs.io/en/latest/advanced-usage.html#tls-warnings\n",
      "  warnings.warn(\n"
     ]
    }
   ],
   "source": [
    "# head = {\n",
    "#     \"User-Agent\": \"Mozilla/5.0 (Windows NT 10.0; Win64; x64) AppleWebKit/537.36 (KHTML, like Gecko) Chrome/120.0.0.0 Safari/537.36\"\n",
    "# }\n",
    "# url = \"https://www.redfin.com/CA/Redwood-City/100-Baltic-Cir-94065/unit-132/home/1884958\"\n",
    "# response = requests.get(url, headers=head, verify=False)\n",
    "# soup=BeautifulSoup(response.text,'html.parser')\n",
    "\n"
   ]
  },
  {
   "cell_type": "code",
   "execution_count": 176,
   "id": "579814e7-3766-443e-a911-33ece15e6544",
   "metadata": {},
   "outputs": [
    {
     "name": "stdout",
     "output_type": "stream",
     "text": [
      "Property Type: None\n"
     ]
    },
    {
     "name": "stderr",
     "output_type": "stream",
     "text": [
      "/opt/conda/lib/python3.12/site-packages/urllib3/connectionpool.py:1099: InsecureRequestWarning: Unverified HTTPS request is being made to host 'www.redfin.com'. Adding certificate verification is strongly advised. See: https://urllib3.readthedocs.io/en/latest/advanced-usage.html#tls-warnings\n",
      "  warnings.warn(\n"
     ]
    }
   ],
   "source": [
    "# head = {\n",
    "#     \"User-Agent\": \"Mozilla/5.0 (Windows NT 10.0; Win64; x64) AppleWebKit/537.36 (KHTML, like Gecko) Chrome/120.0.0.0 Safari/537.36\"\n",
    "# }\n",
    "\n",
    "\n",
    "# url = \"https://www.redfin.com/CA/Redwood-City/308-Starfish-Ln-94065/home/942964\"\n",
    "# response = requests.get(url, headers=head, verify=False)\n",
    "# soup=BeautifulSoup(response.text,'html.parser')\n",
    "\n",
    "\n",
    "# # Initialize a variable to store the property type\n",
    "# property_type = None\n",
    "\n",
    "# # Keywords to check for property type\n",
    "# type_keys = [\"Ownership Type\", \"Style\"]\n",
    "\n",
    "# # Find the section containing \"Style\" or \"Ownership Type\"\n",
    "# amenity_groups = soup.find_all(\"div\", class_=\"amenity-group\")\n",
    "# for group in amenity_groups:\n",
    "#     entries = group.find_all(\"li\", class_=\"entryItem\")\n",
    "#     for entry in entries:\n",
    "#         # Check if the entry contains one of the keys\n",
    "#         for key in type_keys:\n",
    "#             if key in entry.get_text():\n",
    "#                 property_type = entry.find(\"span\").get_text(strip=True)\n",
    "#                 break\n",
    "#         if property_type:\n",
    "#             break\n",
    "\n",
    "# # Output the extracted property type\n",
    "# print(\"Property Type:\", property_type)"
   ]
  },
  {
   "cell_type": "code",
   "execution_count": 177,
   "id": "4f3d331b-f17e-44e6-a0f6-f6442dba0ca1",
   "metadata": {},
   "outputs": [
    {
     "name": "stdout",
     "output_type": "stream",
     "text": [
      "Property Type: None\n"
     ]
    },
    {
     "name": "stderr",
     "output_type": "stream",
     "text": [
      "/opt/conda/lib/python3.12/site-packages/urllib3/connectionpool.py:1099: InsecureRequestWarning: Unverified HTTPS request is being made to host 'www.redfin.com'. Adding certificate verification is strongly advised. See: https://urllib3.readthedocs.io/en/latest/advanced-usage.html#tls-warnings\n",
      "  warnings.warn(\n"
     ]
    }
   ],
   "source": [
    "# head = {\n",
    "#     \"User-Agent\": \"Mozilla/5.0 (Windows NT 10.0; Win64; x64) AppleWebKit/537.36 (KHTML, like Gecko) Chrome/120.0.0.0 Safari/537.36\"\n",
    "# }\n",
    "\n",
    "\n",
    "# url = \"\thttps://www.redfin.com/CA/Redwood-City/6-Portofino-Cir-94065/home/942122\"\n",
    "# response = requests.get(url, headers=head, verify=False)\n",
    "# soup=BeautifulSoup(response.text,'html.parser')\n",
    "\n",
    "\n",
    "# # Initialize a variable to store the property type\n",
    "# property_type = None\n",
    "\n",
    "# # Keywords to check for property type\n",
    "# type_keys = [\"Ownership Type\", \"Style\"]\n",
    "\n",
    "# # Find the section containing \"Style\" or \"Ownership Type\"\n",
    "# amenity_groups = soup.find_all(\"div\", class_=\"amenity-group\")\n",
    "# for group in amenity_groups:\n",
    "#     entries = group.find_all(\"li\", class_=\"entryItem\")\n",
    "#     for entry in entries:\n",
    "#         # Check if the entry contains one of the keys\n",
    "#         for key in type_keys:\n",
    "#             if key in entry.get_text():\n",
    "#                 property_type = entry.find(\"span\").get_text(strip=True)\n",
    "#                 break\n",
    "#         if property_type:\n",
    "#             break\n",
    "\n",
    "# # Output the extracted property type\n",
    "# print(\"Property Type:\", property_type)"
   ]
  },
  {
   "cell_type": "code",
   "execution_count": null,
   "id": "02e527d1-da3a-4734-83b9-6853277cfdff",
   "metadata": {},
   "outputs": [],
   "source": []
  }
 ],
 "metadata": {
  "kernelspec": {
   "display_name": "Python 3 (ipykernel)",
   "language": "python",
   "name": "python3"
  },
  "language_info": {
   "codemirror_mode": {
    "name": "ipython",
    "version": 3
   },
   "file_extension": ".py",
   "mimetype": "text/x-python",
   "name": "python",
   "nbconvert_exporter": "python",
   "pygments_lexer": "ipython3",
   "version": "3.12.7"
  }
 },
 "nbformat": 4,
 "nbformat_minor": 5
}
